{
 "cells": [
  {
   "cell_type": "code",
   "execution_count": 4,
   "id": "4914dd96-8978-4655-8821-ff8f521f47d9",
   "metadata": {},
   "outputs": [],
   "source": [
    "import pandas as pd\n",
    "\n",
    "dataset = pd.read_csv(\"./Global YouTube Statistics.csv\", encoding=\"iso-8859-1\")"
   ]
  },
  {
   "cell_type": "code",
   "execution_count": 5,
   "id": "51cebead-7136-4db3-9ca3-e7bd9760727a",
   "metadata": {},
   "outputs": [
    {
     "name": "stdout",
     "output_type": "stream",
     "text": [
      "     rank                    Youtuber  subscribers   video views  \\\n",
      "0       1                    T-Series    245000000  2.280000e+11   \n",
      "1       2              YouTube Movies    170000000  0.000000e+00   \n",
      "2       3                     MrBeast    166000000  2.836884e+10   \n",
      "3       4  Cocomelon - Nursery Rhymes    162000000  1.640000e+11   \n",
      "4       5                   SET India    159000000  1.480000e+11   \n",
      "..    ...                         ...          ...           ...   \n",
      "990   991               Natan por Aï¿     12300000  9.029610e+09   \n",
      "991   992    Free Fire India Official     12300000  1.674410e+09   \n",
      "992   993                       Panda     12300000  2.214684e+09   \n",
      "993   994                 RobTopGames     12300000  3.741235e+08   \n",
      "994   995                Make Joke Of     12300000  2.129774e+09   \n",
      "\n",
      "             category                       Title  uploads         Country  \\\n",
      "0               Music                    T-Series    20082           India   \n",
      "1    Film & Animation               youtubemovies        1   United States   \n",
      "2       Entertainment                     MrBeast      741   United States   \n",
      "3           Education  Cocomelon - Nursery Rhymes      966   United States   \n",
      "4               Shows                   SET India   116536           India   \n",
      "..                ...                         ...      ...             ...   \n",
      "990            Sports               Natan por Aï¿     1200          Brazil   \n",
      "991    People & Blogs    Free Fire India Official     1500           India   \n",
      "992               NaN                 HybridPanda     2452  United Kingdom   \n",
      "993            Gaming                 RobTopGames       39          Sweden   \n",
      "994            Comedy                Make Joke Of       62           India   \n",
      "\n",
      "    Abbreviation   channel_type  ...  subscribers_for_last_30_days  \\\n",
      "0             IN          Music  ...                     2000000.0   \n",
      "1             US          Games  ...                           NaN   \n",
      "2             US  Entertainment  ...                     8000000.0   \n",
      "3             US      Education  ...                     1000000.0   \n",
      "4             IN  Entertainment  ...                     1000000.0   \n",
      "..           ...            ...  ...                           ...   \n",
      "990           BR  Entertainment  ...                      700000.0   \n",
      "991           IN          Games  ...                      300000.0   \n",
      "992           GB          Games  ...                        1000.0   \n",
      "993           SE          Games  ...                      100000.0   \n",
      "994           IN         Comedy  ...                      100000.0   \n",
      "\n",
      "     created_year  created_month  created_date  \\\n",
      "0          2006.0            Mar          13.0   \n",
      "1          2006.0            Mar           5.0   \n",
      "2          2012.0            Feb          20.0   \n",
      "3          2006.0            Sep           1.0   \n",
      "4          2006.0            Sep          20.0   \n",
      "..            ...            ...           ...   \n",
      "990        2017.0            Feb          12.0   \n",
      "991        2018.0            Sep          14.0   \n",
      "992        2006.0            Sep          11.0   \n",
      "993        2012.0            May           9.0   \n",
      "994        2017.0            Aug           1.0   \n",
      "\n",
      "     Gross tertiary education enrollment (%)    Population  Unemployment rate  \\\n",
      "0                                       28.1  1.366418e+09               5.36   \n",
      "1                                       88.2  3.282395e+08              14.70   \n",
      "2                                       88.2  3.282395e+08              14.70   \n",
      "3                                       88.2  3.282395e+08              14.70   \n",
      "4                                       28.1  1.366418e+09               5.36   \n",
      "..                                       ...           ...                ...   \n",
      "990                                     51.3  2.125594e+08              12.08   \n",
      "991                                     28.1  1.366418e+09               5.36   \n",
      "992                                     60.0  6.683440e+07               3.85   \n",
      "993                                     67.0  1.028545e+07               6.48   \n",
      "994                                     28.1  1.366418e+09               5.36   \n",
      "\n",
      "     Urban_population   Latitude  Longitude  \n",
      "0         471031528.0  20.593684  78.962880  \n",
      "1         270663028.0  37.090240 -95.712891  \n",
      "2         270663028.0  37.090240 -95.712891  \n",
      "3         270663028.0  37.090240 -95.712891  \n",
      "4         471031528.0  20.593684  78.962880  \n",
      "..                ...        ...        ...  \n",
      "990       183241641.0 -14.235004 -51.925280  \n",
      "991       471031528.0  20.593684  78.962880  \n",
      "992        55908316.0  55.378051  -3.435973  \n",
      "993         9021165.0  60.128161  18.643501  \n",
      "994       471031528.0  20.593684  78.962880  \n",
      "\n",
      "[995 rows x 28 columns]\n"
     ]
    }
   ],
   "source": [
    "print(dataset)"
   ]
  },
  {
   "cell_type": "code",
   "execution_count": null,
   "id": "4d84771d-d210-4a46-a904-c73c8fb0e771",
   "metadata": {},
   "outputs": [],
   "source": []
  }
 ],
 "metadata": {
  "kernelspec": {
   "display_name": "Python 3 (ipykernel)",
   "language": "python",
   "name": "python3"
  },
  "language_info": {
   "codemirror_mode": {
    "name": "ipython",
    "version": 3
   },
   "file_extension": ".py",
   "mimetype": "text/x-python",
   "name": "python",
   "nbconvert_exporter": "python",
   "pygments_lexer": "ipython3",
   "version": "3.12.7"
  }
 },
 "nbformat": 4,
 "nbformat_minor": 5
}
