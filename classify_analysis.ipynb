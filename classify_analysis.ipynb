{
 "cells": [
  {
   "cell_type": "markdown",
   "id": "29fad240-5fc8-4d91-a65e-8c99a970e5b3",
   "metadata": {},
   "source": [
    "# Analysis of YouTube dataset\n",
    "The goal of this notebook is to create a model for predicting the number of subscribers from channel attributes for large channels (>12 million subscribers).\n",
    "\n",
    "The idea is to create a classifier that can choose a subscriber count bin for the channel."
   ]
  },
  {
   "cell_type": "code",
   "execution_count": 1,
   "id": "e3631ce0-d96a-4773-bf57-f005c1521e27",
   "metadata": {},
   "outputs": [
    {
     "name": "stdout",
     "output_type": "stream",
     "text": [
      "     rank                    Youtuber  subscribers   video views  \\\n",
      "0       1                    T-Series    245000000  2.280000e+11   \n",
      "1       2              YouTube Movies    170000000  0.000000e+00   \n",
      "2       3                     MrBeast    166000000  2.836884e+10   \n",
      "3       4  Cocomelon - Nursery Rhymes    162000000  1.640000e+11   \n",
      "4       5                   SET India    159000000  1.480000e+11   \n",
      "..    ...                         ...          ...           ...   \n",
      "990   991               Natan por Aï¿     12300000  9.029610e+09   \n",
      "991   992    Free Fire India Official     12300000  1.674410e+09   \n",
      "992   993                       Panda     12300000  2.214684e+09   \n",
      "993   994                 RobTopGames     12300000  3.741235e+08   \n",
      "994   995                Make Joke Of     12300000  2.129774e+09   \n",
      "\n",
      "             category                       Title  uploads         Country  \\\n",
      "0               Music                    T-Series    20082           India   \n",
      "1    Film & Animation               youtubemovies        1   United States   \n",
      "2       Entertainment                     MrBeast      741   United States   \n",
      "3           Education  Cocomelon - Nursery Rhymes      966   United States   \n",
      "4               Shows                   SET India   116536           India   \n",
      "..                ...                         ...      ...             ...   \n",
      "990            Sports               Natan por Aï¿     1200          Brazil   \n",
      "991    People & Blogs    Free Fire India Official     1500           India   \n",
      "992               NaN                 HybridPanda     2452  United Kingdom   \n",
      "993            Gaming                 RobTopGames       39          Sweden   \n",
      "994            Comedy                Make Joke Of       62           India   \n",
      "\n",
      "    Abbreviation   channel_type  ...  subscribers_for_last_30_days  \\\n",
      "0             IN          Music  ...                     2000000.0   \n",
      "1             US          Games  ...                           NaN   \n",
      "2             US  Entertainment  ...                     8000000.0   \n",
      "3             US      Education  ...                     1000000.0   \n",
      "4             IN  Entertainment  ...                     1000000.0   \n",
      "..           ...            ...  ...                           ...   \n",
      "990           BR  Entertainment  ...                      700000.0   \n",
      "991           IN          Games  ...                      300000.0   \n",
      "992           GB          Games  ...                        1000.0   \n",
      "993           SE          Games  ...                      100000.0   \n",
      "994           IN         Comedy  ...                      100000.0   \n",
      "\n",
      "     created_year  created_month  created_date  \\\n",
      "0          2006.0            Mar          13.0   \n",
      "1          2006.0            Mar           5.0   \n",
      "2          2012.0            Feb          20.0   \n",
      "3          2006.0            Sep           1.0   \n",
      "4          2006.0            Sep          20.0   \n",
      "..            ...            ...           ...   \n",
      "990        2017.0            Feb          12.0   \n",
      "991        2018.0            Sep          14.0   \n",
      "992        2006.0            Sep          11.0   \n",
      "993        2012.0            May           9.0   \n",
      "994        2017.0            Aug           1.0   \n",
      "\n",
      "     Gross tertiary education enrollment (%)    Population  Unemployment rate  \\\n",
      "0                                       28.1  1.366418e+09               5.36   \n",
      "1                                       88.2  3.282395e+08              14.70   \n",
      "2                                       88.2  3.282395e+08              14.70   \n",
      "3                                       88.2  3.282395e+08              14.70   \n",
      "4                                       28.1  1.366418e+09               5.36   \n",
      "..                                       ...           ...                ...   \n",
      "990                                     51.3  2.125594e+08              12.08   \n",
      "991                                     28.1  1.366418e+09               5.36   \n",
      "992                                     60.0  6.683440e+07               3.85   \n",
      "993                                     67.0  1.028545e+07               6.48   \n",
      "994                                     28.1  1.366418e+09               5.36   \n",
      "\n",
      "     Urban_population   Latitude  Longitude  \n",
      "0         471031528.0  20.593684  78.962880  \n",
      "1         270663028.0  37.090240 -95.712891  \n",
      "2         270663028.0  37.090240 -95.712891  \n",
      "3         270663028.0  37.090240 -95.712891  \n",
      "4         471031528.0  20.593684  78.962880  \n",
      "..                ...        ...        ...  \n",
      "990       183241641.0 -14.235004 -51.925280  \n",
      "991       471031528.0  20.593684  78.962880  \n",
      "992        55908316.0  55.378051  -3.435973  \n",
      "993         9021165.0  60.128161  18.643501  \n",
      "994       471031528.0  20.593684  78.962880  \n",
      "\n",
      "[995 rows x 28 columns]\n"
     ]
    }
   ],
   "source": [
    "import pandas as pd\n",
    "import numpy as np\n",
    "\n",
    "dataset = pd.read_csv(\"./Global YouTube Statistics.csv\", encoding=\"iso-8859-1\")\n",
    "\n",
    "print(dataset)"
   ]
  },
  {
   "cell_type": "markdown",
   "id": "51652f34-919c-4277-800e-2a93cc02507f",
   "metadata": {},
   "source": [
    "The first task is to clean up the dataset by only including relevant columns and transform them.\n",
    "Columns were selected based on accessibility and simplicity.\n",
    "\n",
    "X: views, category, uploads, country, created_year\n",
    "\n",
    "Y: subscribers"
   ]
  },
  {
   "cell_type": "code",
   "execution_count": 2,
   "id": "87d039c3-b775-440e-94dc-7a00753186f8",
   "metadata": {},
   "outputs": [
    {
     "name": "stdout",
     "output_type": "stream",
     "text": [
      "     subscribers         views  category  uploads  created_year\n",
      "0      245000000  2.280000e+11         8    20082          2006\n",
      "2      166000000  2.836884e+10         3      741          2012\n",
      "3      162000000  1.640000e+11         2      966          2006\n",
      "4      159000000  1.480000e+11        14   116536          2006\n",
      "6      112000000  9.324704e+10        11     1111          2015\n",
      "..           ...           ...       ...      ...           ...\n",
      "989     12400000  6.993406e+09         8       99          2012\n",
      "990     12300000  9.029610e+09        15     1200          2017\n",
      "991     12300000  1.674410e+09        11     1500          2018\n",
      "993     12300000  3.741235e+08         5       39          2012\n",
      "994     12300000  2.129774e+09         1       62          2017\n",
      "\n",
      "[854 rows x 5 columns]\n"
     ]
    }
   ],
   "source": [
    "from sklearn.preprocessing import LabelEncoder\n",
    "\n",
    "df = dataset\n",
    "\n",
    "df = df.rename(columns={ \"video views\": \"views\" }) # keep naming scheme consistent (snake_case)\n",
    "df = df[[\"subscribers\", \"views\", \"category\", \"uploads\", \"created_year\"]]\n",
    "df = df.dropna()\n",
    "df = df.loc[df[\"uploads\"] >= 10] # filter out low video count channels (such as auto-generated feeds like YouTube Movies)\n",
    "df[\"created_year\"] = df[\"created_year\"].astype(int) # make created_year an integer\n",
    "\n",
    "# add an encoded column for country codes\n",
    "co_le = LabelEncoder()\n",
    "df[\"category\"] = co_le.fit_transform(df[\"category\"])\n",
    "\n",
    "print(df)"
   ]
  },
  {
   "cell_type": "markdown",
   "id": "36c50d1f-bc5c-4090-ac9a-9740c01ad51a",
   "metadata": {},
   "source": [
    "Next, we need to perform discretization and place the subscriber count into bins.\n",
    "\n",
    "Since we are using few features which represent where only three are continuous (and one of those has low variation), any precise answer won't be accurate.\n",
    "Instead, opting to put the count of subscribers into bins (e.g. 10M, 100M, 500M, 1B, 1.5B, 2B, etc.) will give a more accurate answer, at the cost of precision.\n",
    "\n",
    "Before deciding whether to have equal or variable width bins, let's look at the distribution of the subscriber count."
   ]
  },
  {
   "cell_type": "code",
   "execution_count": 3,
   "id": "886bd0f5-b11f-440e-aaec-f6fea90c5c21",
   "metadata": {},
   "outputs": [
    {
     "data": {
      "image/png": "[encoded data removed]",
      "text/plain": [
       "<Figure size 640x480 with 1 Axes>"
      ]
     },
     "metadata": {},
     "output_type": "display_data"
    }
   ],
   "source": [
    "import matplotlib.pyplot as plt\n",
    "\n",
    "plt.hist(df[\"subscribers\"], bins=10)\n",
    "plt.show()"
   ]
  },
  {
   "cell_type": "markdown",
   "id": "73472d26-faba-4d40-bdc9-2f1adeab078f",
   "metadata": {},
   "source": [
    "With such a strong right skew and nearly a power law distribution, let's check out a logarithmic binning."
   ]
  },
  {
   "cell_type": "code",
   "execution_count": 4,
   "id": "541efa78-8985-4467-91d7-4852465aeaad",
   "metadata": {},
   "outputs": [
    {
     "data": {
      "image/png": "[encoded data removed]",
      "text/plain": [
       "<Figure size 640x480 with 1 Axes>"
      ]
     },
     "metadata": {},
     "output_type": "display_data"
    }
   ],
   "source": [
    "plt.hist(np.log1p(df[\"subscribers\"]), bins=10)\n",
    "plt.show()"
   ]
  },
  {
   "cell_type": "markdown",
   "id": "2ccfd202-4008-4d4c-86d5-07d8300ab05d",
   "metadata": {},
   "source": [
    "Note: with this distribution, the model predicts for all bins but at lower accuracy (while equal-width binning doesn't create enough samples for all bins)\n",
    "\n",
    "Let's now create our training and testing sets using this binning strategy (5 bins seems like enough as well)."
   ]
  },
  {
   "cell_type": "code",
   "execution_count": 5,
   "id": "0c45a451-bb27-48c8-a651-3c1a635ee0fa",
   "metadata": {},
   "outputs": [
    {
     "name": "stdout",
     "output_type": "stream",
     "text": [
      "Train sample kinds: 5\n",
      "Test sample kinds: 6\n",
      "Counter({np.int64(1): 410, np.int64(2): 140, np.int64(3): 39, np.int64(4): 6, np.int64(5): 2})\n",
      "Counter({np.int64(1): 179, np.int64(2): 64, np.int64(3): 9, np.int64(4): 3, np.int64(6): 1, np.int64(5): 1})\n"
     ]
    }
   ],
   "source": [
    "import sklearn.model_selection as ms\n",
    "X = df[[\"views\", \"category\", \"uploads\", \"created_year\"]]\n",
    "Y = np.log1p(df[\"subscribers\"])\n",
    "\n",
    "XTrain, XTest, YTrain, YTest = ms.train_test_split(X, Y, test_size=0.3, random_state=24)\n",
    "\n",
    "num_bins = 5\n",
    "\n",
    "# find bins based on training data\n",
    "bin_edges = np.histogram_bin_edges(YTrain, bins=num_bins, range=(Y.min(), Y.max()))\n",
    "\n",
    "YTrain = np.digitize(YTrain, bin_edges)\n",
    "YTest = np.digitize(YTest, bin_edges)\n",
    "\n",
    "print(\"Train sample kinds: \" + str(len(pd.unique(YTrain))))\n",
    "print(\"Test sample kinds: \" + str(len(pd.unique(YTest))))\n",
    "\n",
    "from collections import Counter\n",
    "print(Counter(YTrain))\n",
    "print(Counter(YTest))"
   ]
  },
  {
   "cell_type": "markdown",
   "id": "fe8cb670-f6d8-4064-b203-eb7a179a11ae",
   "metadata": {},
   "source": [
    "Let's find the best ensemble method for this data by trying many of them.\n",
    "We'll try:\n",
    "\n",
    "- Bagging\n",
    "- Boosting\n",
    "- Random Forests\n",
    "- Extremely Random Forests\n"
   ]
  },
  {
   "cell_type": "code",
   "execution_count": 6,
   "id": "e715e3df-92e9-4f6a-96a1-5bf3bb2bcfb7",
   "metadata": {},
   "outputs": [
    {
     "name": "stdout",
     "output_type": "stream",
     "text": [
      "Fitting DecisionTree\n",
      "Fitting Bagging\n",
      "Fitting RandomForest\n",
      "Fitting ExtraTrees\n",
      "Fitting AdaBoost\n"
     ]
    }
   ],
   "source": [
    "from sklearn.metrics import roc_curve\n",
    "from sklearn.tree import DecisionTreeClassifier\n",
    "from sklearn.ensemble import AdaBoostClassifier\n",
    "from sklearn.ensemble import BaggingClassifier\n",
    "from sklearn.ensemble import RandomForestClassifier\n",
    "from sklearn.ensemble import ExtraTreesClassifier\n",
    "\n",
    "n_estimators = 500\n",
    "\n",
    "models = [DecisionTreeClassifier(max_depth=5),\\\n",
    "BaggingClassifier(n_estimators=n_estimators),\\\n",
    "RandomForestClassifier(n_estimators=n_estimators),\\\n",
    "ExtraTreesClassifier(n_estimators=n_estimators),\\\n",
    "AdaBoostClassifier(n_estimators=n_estimators, algorithm=\"SAMME\")]\n",
    "\n",
    "# Create a list that provides an easy way to identify each of the models later.\n",
    "model_titles = ['DecisionTree', 'Bagging', 'RandomForest', 'ExtraTrees', 'AdaBoost']\n",
    "\n",
    "# Create five empty lists for saving the computing results later\n",
    "# Why is this a better way to save test result?\n",
    "surv_preds, surv_probs, scores, fprs, tprs, clfs = ([] for i in range(6))\n",
    "\n",
    "for i, model in enumerate(models):\n",
    "    print(\"Fitting {0}\".format(model_titles[i]))\n",
    "    clf = model.fit(XTrain,YTrain)\n",
    "    surv_preds.append(model.predict(XTest))\n",
    "    surv_probs.append(model.predict_proba(XTest))\n",
    "    scores.append(model.score(XTest, YTest))\n",
    "    fpr, tpr, _ = roc_curve(YTest, surv_probs[i][:,1], pos_label=5) # get true and false positive rates \n",
    "    fprs.append(fpr)\n",
    "    tprs.append(tpr)\n",
    "    clfs.append(clf)"
   ]
  },
  {
   "cell_type": "code",
   "execution_count": 7,
   "id": "d4486fa5-3aad-4f85-ae0b-0c91e89183ce",
   "metadata": {},
   "outputs": [
    {
     "name": "stdout",
     "output_type": "stream",
     "text": [
      "DecisionTree with score 0.7509727626459144\n",
      "Bagging with score 0.7509727626459144\n",
      "RandomForest with score 0.7704280155642024\n",
      "ExtraTrees with score 0.754863813229572\n",
      "AdaBoost with score 0.7120622568093385\n"
     ]
    }
   ],
   "source": [
    "for i, score in enumerate(scores):\n",
    "    print(\"{0} with score {1}\".format(model_titles[i], score))"
   ]
  },
  {
   "cell_type": "markdown",
   "id": "8c9dc8a8-ef91-412e-ac8c-305088a50ea6",
   "metadata": {},
   "source": [
    "ROC curves for bin 5 vs rest:"
   ]
  },
  {
   "cell_type": "code",
   "execution_count": 8,
   "id": "c4ecf5c0-438f-4228-a52e-6fca10e08051",
   "metadata": {
    "scrolled": true
   },
   "outputs": [
    {
     "data": {
      "image/png": "[encoded data removed]",
      "text/plain": [
       "<Figure size 640x480 with 1 Axes>"
      ]
     },
     "metadata": {},
     "output_type": "display_data"
    }
   ],
   "source": [
    "for i, _ in enumerate(models):\n",
    "    plt.plot(fprs[i],tprs[i])\n",
    "\n",
    "plt.legend(model_titles)\n",
    "plt.show()"
   ]
  },
  {
   "cell_type": "markdown",
   "id": "d00ce612-1c8d-425c-a58a-2afe7b5995dc",
   "metadata": {},
   "source": [
    "The decision tree produces good enough results, so let stay with that and just tune it."
   ]
  },
  {
   "cell_type": "code",
   "execution_count": 9,
   "id": "4582dbe3-d087-4b2c-8f63-e47e573b3db2",
   "metadata": {},
   "outputs": [
    {
     "name": "stdout",
     "output_type": "stream",
     "text": [
      "{'max_depth': 5, 'min_samples_leaf': 7, 'min_samples_split': 15}\n",
      "0.754863813229572\n"
     ]
    }
   ],
   "source": [
    "from sklearn.metrics import mean_squared_error\n",
    "\n",
    "param_grid = {\n",
    "    'max_depth': [5, 7, 9, 10, 15, None],\n",
    "    'min_samples_split': [5, 7, 10, 13, 15, 17, 19, 21],\n",
    "    'min_samples_leaf': [2, 3, 4, 5, 7, 9]\n",
    "}\n",
    "model = DecisionTreeClassifier()\n",
    "\n",
    "cv_tree = ms.GridSearchCV(estimator=model, param_grid=param_grid, cv=ms.KFold(), scoring=\"neg_mean_squared_error\")\n",
    "cv_tree.fit(XTrain, YTrain)\n",
    "\n",
    "print(cv_tree.best_params_)\n",
    "\n",
    "model = cv_tree.best_estimator_\n",
    "print(model.score(XTest, YTest))"
   ]
  },
  {
   "cell_type": "code",
   "execution_count": 10,
   "id": "8b056be7-d82d-47ed-9a67-587ec3468912",
   "metadata": {},
   "outputs": [
    {
     "data": {
      "text/html": [
       "<img src=\"https://quickchart.io/graphviz?graph=digraph+Tree+%7B%0Anode+%5Bshape%3Dbox%2C+fontname%3D%22helvetica%22%5D+%3B%0Aedge+%5Bfontname%3D%22helvetica%22%5D+%3B%0A0+%5Blabel%3D%22views+%3C%3D+12374128128.0%5Cngini+%3D+0.469%5Cnsamples+%3D+597%5Cnvalue+%3D+%5B410.0%2C+140.0%2C+39.0%2C+6.0%2C+2.0%5D%5Cnclass+%3D+0%22%5D+%3B%0A1+%5Blabel%3D%22views+%3C%3D+10055253504.0%5Cngini+%3D+0.235%5Cnsamples+%3D+417%5Cnvalue+%3D+%5B361.0%2C+52.0%2C+4.0%2C+0.0%2C+0.0%5D%5Cnclass+%3D+0%22%5D+%3B%0A0+-%3E+1+%5Blabeldistance%3D2.5%2C+labelangle%3D45%2C+headlabel%3D%22True%22%5D+%3B%0A2+%5Blabel%3D%22views+%3C%3D+2133596736.0%5Cngini+%3D+0.206%5Cnsamples+%3D+373%5Cnvalue+%3D+%5B330%2C+40%2C+3%2C+0%2C+0%5D%5Cnclass+%3D+0%22%5D+%3B%0A1+-%3E+2+%3B%0A3+%5Blabel%3D%22gini+%3D+0.0%5Cnsamples+%3D+43%5Cnvalue+%3D+%5B43%2C+0%2C+0%2C+0%2C+0%5D%5Cnclass+%3D+0%22%5D+%3B%0A2+-%3E+3+%3B%0A4+%5Blabel%3D%22category+%3C%3D+4.5%5Cngini+%3D+0.229%5Cnsamples+%3D+330%5Cnvalue+%3D+%5B287%2C+40%2C+3%2C+0%2C+0%5D%5Cnclass+%3D+0%22%5D+%3B%0A2+-%3E+4+%3B%0A5+%5Blabel%3D%22%28...%29%22%5D+%3B%0A4+-%3E+5+%3B%0A8+%5Blabel%3D%22%28...%29%22%5D+%3B%0A4+-%3E+8+%3B%0A11+%5Blabel%3D%22views+%3C%3D+10449320448.0%5Cngini+%3D+0.429%5Cnsamples+%3D+44%5Cnvalue+%3D+%5B31%2C+12%2C+1%2C+0%2C+0%5D%5Cnclass+%3D+0%22%5D+%3B%0A1+-%3E+11+%3B%0A12+%5Blabel%3D%22gini+%3D+0.556%5Cnsamples+%3D+13%5Cnvalue+%3D+%5B5%2C+7%2C+1%2C+0%2C+0%5D%5Cnclass+%3D+1%22%5D+%3B%0A11+-%3E+12+%3B%0A13+%5Blabel%3D%22created_year+%3C%3D+2010.5%5Cngini+%3D+0.271%5Cnsamples+%3D+31%5Cnvalue+%3D+%5B26%2C+5%2C+0%2C+0%2C+0%5D%5Cnclass+%3D+0%22%5D+%3B%0A11+-%3E+13+%3B%0A14+%5Blabel%3D%22%28...%29%22%5D+%3B%0A13+-%3E+14+%3B%0A15+%5Blabel%3D%22%28...%29%22%5D+%3B%0A13+-%3E+15+%3B%0A18+%5Blabel%3D%22views+%3C%3D+24353942528.0%5Cngini+%3D+0.648%5Cnsamples+%3D+180%5Cnvalue+%3D+%5B49.0%2C+88.0%2C+35.0%2C+6.0%2C+2.0%5D%5Cnclass+%3D+1%22%5D+%3B%0A0+-%3E+18+%5Blabeldistance%3D2.5%2C+labelangle%3D-45%2C+headlabel%3D%22False%22%5D+%3B%0A19+%5Blabel%3D%22views+%3C%3D+15478430720.0%5Cngini+%3D+0.55%5Cnsamples+%3D+134%5Cnvalue+%3D+%5B47%2C+76%2C+10%2C+1%2C+0%5D%5Cnclass+%3D+1%22%5D+%3B%0A18+-%3E+19+%3B%0A20+%5Blabel%3D%22created_year+%3C%3D+2007.5%5Cngini+%3D+0.535%5Cnsamples+%3D+53%5Cnvalue+%3D+%5B26%2C+25%2C+2%2C+0%2C+0%5D%5Cnclass+%3D+0%22%5D+%3B%0A19+-%3E+20+%3B%0A21+%5Blabel%3D%22%28...%29%22%5D+%3B%0A20+-%3E+21+%3B%0A22+%5Blabel%3D%22%28...%29%22%5D+%3B%0A20+-%3E+22+%3B%0A25+%5Blabel%3D%22created_year+%3C%3D+2017.5%5Cngini+%3D+0.526%5Cnsamples+%3D+81%5Cnvalue+%3D+%5B21%2C+51%2C+8%2C+1%2C+0%5D%5Cnclass+%3D+1%22%5D+%3B%0A19+-%3E+25+%3B%0A26+%5Blabel%3D%22%28...%29%22%5D+%3B%0A25+-%3E+26+%3B%0A29+%5Blabel%3D%22%28...%29%22%5D+%3B%0A25+-%3E+29+%3B%0A30+%5Blabel%3D%22views+%3C%3D+56578066432.0%5Cngini+%3D+0.621%5Cnsamples+%3D+46%5Cnvalue+%3D+%5B2%2C+12%2C+25%2C+5%2C+2%5D%5Cnclass+%3D+2%22%5D+%3B%0A18+-%3E+30+%3B%0A31+%5Blabel%3D%22views+%3C%3D+28576953344.0%5Cngini+%3D+0.561%5Cnsamples+%3D+38%5Cnvalue+%3D+%5B2%2C+12%2C+22%2C+1%2C+1%5D%5Cnclass+%3D+2%22%5D+%3B%0A30+-%3E+31+%3B%0A32+%5Blabel%3D%22%28...%29%22%5D+%3B%0A31+-%3E+32+%3B%0A33+%5Blabel%3D%22%28...%29%22%5D+%3B%0A31+-%3E+33+%3B%0A36+%5Blabel%3D%22gini+%3D+0.594%5Cnsamples+%3D+8%5Cnvalue+%3D+%5B0%2C+0%2C+3%2C+4%2C+1%5D%5Cnclass+%3D+3%22%5D+%3B%0A30+-%3E+36+%3B%0A%7D\"/>"
      ],
      "text/plain": [
       "<IPython.core.display.Image object>"
      ]
     },
     "execution_count": 10,
     "metadata": {},
     "output_type": "execute_result"
    }
   ],
   "source": [
    "from sklearn.tree import export_graphviz\n",
    "content = export_graphviz(model, max_depth=3, feature_names=X.columns, class_names=list(map(lambda x: str(x), range(num_bins))))\n",
    "\n",
    "import urllib\n",
    "url_safe = urllib.parse.quote_plus(content)\n",
    "\n",
    "from IPython.display import Image\n",
    "from IPython.core.display import HTML \n",
    "Image(url=\"https://quickchart.io/graphviz?graph=\" + url_safe)"
   ]
  },
  {
   "cell_type": "code",
   "execution_count": null,
   "id": "b0a0a092-fb7e-4589-85e9-17e6cc159dcd",
   "metadata": {},
   "outputs": [],
   "source": []
  }
 ],
 "metadata": {
  "kernelspec": {
   "display_name": "Python 3 (ipykernel)",
   "language": "python",
   "name": "python3"
  },
  "language_info": {
   "codemirror_mode": {
    "name": "ipython",
    "version": 3
   },
   "file_extension": ".py",
   "mimetype": "text/x-python",
   "name": "python",
   "nbconvert_exporter": "python",
   "pygments_lexer": "ipython3",
   "version": "3.12.7"
  }
 },
 "nbformat": 4,
 "nbformat_minor": 5
}
